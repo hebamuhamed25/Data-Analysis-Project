{
  "nbformat": 4,
  "nbformat_minor": 0,
  "metadata": {
    "colab": {
      "provenance": []
    },
    "kernelspec": {
      "name": "python3",
      "display_name": "Python 3"
    },
    "language_info": {
      "name": "python"
    }
  },
  "cells": [
    {
      "cell_type": "code",
      "execution_count": null,
      "metadata": {
        "id": "e_eZawsHZAv5"
      },
      "outputs": [],
      "source": [
        "import pandas as pd"
      ]
    },
    {
      "cell_type": "code",
      "source": [
        "customers = pd.read_csv(\"/content/Customerss.csv\")\n",
        "orders = pd.read_csv(\"/content/Orders.csv\")\n",
        "Order_Details = pd.read_csv(\"/content/Order_Details.csv\")\n",
        "Payments = pd.read_csv(\"/content/Payments.csv\")\n",
        "Reviews = pd.read_csv(\"/content/Reviews.csv\")\n",
        "menu = pd.read_csv(\"/content/MenuItems.csv\")"
      ],
      "metadata": {
        "id": "g2p9cvWMZSr2"
      },
      "execution_count": null,
      "outputs": []
    },
    {
      "cell_type": "code",
      "source": [
        "orders_customers = pd.merge(orders, customers, on=\"CustomerID\", how=\"inner\")"
      ],
      "metadata": {
        "id": "d5oDqXuKjKFf"
      },
      "execution_count": null,
      "outputs": []
    },
    {
      "cell_type": "code",
      "source": [
        "orders_with_details = pd.merge(orders_customers, Order_Details, on=\"OrderID\", how=\"inner\")"
      ],
      "metadata": {
        "id": "k615ycxsl06g"
      },
      "execution_count": null,
      "outputs": []
    },
    {
      "cell_type": "code",
      "source": [
        "orders_with_payments = pd.merge(orders_with_details, Payments, on=\"OrderID\", how=\"left\")"
      ],
      "metadata": {
        "id": "_4kUsRHwl03x"
      },
      "execution_count": null,
      "outputs": []
    },
    {
      "cell_type": "code",
      "source": [
        "final_table = pd.merge(orders_with_payments, Reviews, on=\"OrderID\", how=\"left\")"
      ],
      "metadata": {
        "id": "DxhLZFnzl00w"
      },
      "execution_count": null,
      "outputs": []
    },
    {
      "cell_type": "code",
      "source": [
        "final_table = pd.merge(final_table, menu, on=\"MenuItemID\", how=\"left\")"
      ],
      "metadata": {
        "id": "NKDFO6WS_M9l"
      },
      "execution_count": null,
      "outputs": []
    },
    {
      "cell_type": "code",
      "source": [
        "for col in final_table.columns:\n",
        "    if \"Date\" in col:\n",
        "        final_table[col] = pd.to_datetime(final_table[col], errors=\"coerce\")"
      ],
      "metadata": {
        "id": "rfsKFECG8RsE"
      },
      "execution_count": null,
      "outputs": []
    },
    {
      "cell_type": "code",
      "source": [
        "# نشوف نوع البيانات لكل عمود\n",
        "print(final_table.dtypes)\n",
        "\n",
        "# أو نطبع أول 5 قيم من أعمدة التواريخ بس\n",
        "for col in final_table.columns:\n",
        "    if \"Date\" in col:\n",
        "        print(f\"\\nأول 5 قيم في {col}:\")\n",
        "        print(final_table[col].head())\n"
      ],
      "metadata": {
        "colab": {
          "base_uri": "https://localhost:8080/"
        },
        "id": "vaqKdFwd8ujj",
        "outputId": "fc8756c2-4f1a-46c7-abb4-bcca157c1285"
      },
      "execution_count": null,
      "outputs": [
        {
          "output_type": "stream",
          "name": "stdout",
          "text": [
            "OrderID                   int64\n",
            "CustomerID_x              int64\n",
            "OrderDate        datetime64[ns]\n",
            "Status                   object\n",
            "FullName                 object\n",
            "Phone                     int64\n",
            "Address                  object\n",
            "OrderDetailID             int64\n",
            "MenuItemID                int64\n",
            "Quantity                  int64\n",
            "Price_x                 float64\n",
            "Driver_name              object\n",
            "PaymentID               float64\n",
            "PaymentDate      datetime64[ns]\n",
            "Amount                  float64\n",
            "PaymentMethod            object\n",
            "ReviewID                float64\n",
            "CustomerID_y            float64\n",
            "Rating                  float64\n",
            "Comment                  object\n",
            "ReviewDate       datetime64[ns]\n",
            "Name                     object\n",
            "Description              object\n",
            "Price_y                 float64\n",
            "CuisineType              object\n",
            "dtype: object\n",
            "\n",
            "أول 5 قيم في OrderDate:\n",
            "0   2024-02-01\n",
            "1   2024-06-01\n",
            "2          NaT\n",
            "3   2024-07-01\n",
            "4          NaT\n",
            "Name: OrderDate, dtype: datetime64[ns]\n",
            "\n",
            "أول 5 قيم في PaymentDate:\n",
            "0          NaT\n",
            "1          NaT\n",
            "2          NaT\n",
            "3   2025-02-07\n",
            "4          NaT\n",
            "Name: PaymentDate, dtype: datetime64[ns]\n",
            "\n",
            "أول 5 قيم في ReviewDate:\n",
            "0   NaT\n",
            "1   NaT\n",
            "2   NaT\n",
            "3   NaT\n",
            "4   NaT\n",
            "Name: ReviewDate, dtype: datetime64[ns]\n"
          ]
        }
      ]
    },
    {
      "cell_type": "code",
      "source": [
        "final_table.to_csv(\"final_data.csv\", index=False)\n",
        "from google.colab import files\n",
        "files.download(\"final_data.csv\")"
      ],
      "metadata": {
        "colab": {
          "base_uri": "https://localhost:8080/",
          "height": 17
        },
        "id": "g0b3cgHFl0xw",
        "outputId": "7affec43-96fb-462d-96c9-991f687d9a18"
      },
      "execution_count": null,
      "outputs": [
        {
          "output_type": "display_data",
          "data": {
            "text/plain": [
              "<IPython.core.display.Javascript object>"
            ],
            "application/javascript": [
              "\n",
              "    async function download(id, filename, size) {\n",
              "      if (!google.colab.kernel.accessAllowed) {\n",
              "        return;\n",
              "      }\n",
              "      const div = document.createElement('div');\n",
              "      const label = document.createElement('label');\n",
              "      label.textContent = `Downloading \"${filename}\": `;\n",
              "      div.appendChild(label);\n",
              "      const progress = document.createElement('progress');\n",
              "      progress.max = size;\n",
              "      div.appendChild(progress);\n",
              "      document.body.appendChild(div);\n",
              "\n",
              "      const buffers = [];\n",
              "      let downloaded = 0;\n",
              "\n",
              "      const channel = await google.colab.kernel.comms.open(id);\n",
              "      // Send a message to notify the kernel that we're ready.\n",
              "      channel.send({})\n",
              "\n",
              "      for await (const message of channel.messages) {\n",
              "        // Send a message to notify the kernel that we're ready.\n",
              "        channel.send({})\n",
              "        if (message.buffers) {\n",
              "          for (const buffer of message.buffers) {\n",
              "            buffers.push(buffer);\n",
              "            downloaded += buffer.byteLength;\n",
              "            progress.value = downloaded;\n",
              "          }\n",
              "        }\n",
              "      }\n",
              "      const blob = new Blob(buffers, {type: 'application/binary'});\n",
              "      const a = document.createElement('a');\n",
              "      a.href = window.URL.createObjectURL(blob);\n",
              "      a.download = filename;\n",
              "      div.appendChild(a);\n",
              "      a.click();\n",
              "      div.remove();\n",
              "    }\n",
              "  "
            ]
          },
          "metadata": {}
        },
        {
          "output_type": "display_data",
          "data": {
            "text/plain": [
              "<IPython.core.display.Javascript object>"
            ],
            "application/javascript": [
              "download(\"download_43979948-5831-42a4-919a-c1f919f04eee\", \"final_data.csv\", 704069)"
            ]
          },
          "metadata": {}
        }
      ]
    },
    {
      "cell_type": "code",
      "source": [
        "print(\"Orders:\", orders.columns.tolist())\n",
        "print(\"Reviews:\", Reviews.columns.tolist())\n",
        "print(\"Payments:\", Payments.columns.tolist())\n"
      ],
      "metadata": {
        "colab": {
          "base_uri": "https://localhost:8080/"
        },
        "id": "tyavKzA0ZX64",
        "outputId": "9b4a83b6-8948-442c-b24d-8832f8dd2531"
      },
      "execution_count": null,
      "outputs": [
        {
          "output_type": "stream",
          "name": "stdout",
          "text": [
            "Orders: ['OrderID', 'CustomerID', 'OrderDate', 'Status']\n",
            "Reviews: ['ReviewID', 'OrderID', 'CustomerID', 'Rating', 'Comment', 'ReviewDate']\n",
            "Payments: ['PaymentID', 'OrderID', 'PaymentDate', 'Amount', 'PaymentMethod']\n"
          ]
        }
      ]
    },
    {
      "cell_type": "code",
      "source": [
        "print(\"Order IDs in Orders:\", orders[\"OrderID\"].head())\n",
        "print(\"Order IDs in Reviews:\", Reviews[\"OrderID\"].head())\n"
      ],
      "metadata": {
        "colab": {
          "base_uri": "https://localhost:8080/"
        },
        "id": "zgg1G3sApAcz",
        "outputId": "d7b6bc8a-4396-4049-eee4-8cd83accd10f"
      },
      "execution_count": null,
      "outputs": [
        {
          "output_type": "stream",
          "name": "stdout",
          "text": [
            "Order IDs in Orders: 0    1\n",
            "1    2\n",
            "2    3\n",
            "3    4\n",
            "4    5\n",
            "Name: OrderID, dtype: int64\n",
            "Order IDs in Reviews: 0    1931\n",
            "1    1146\n",
            "2    5342\n",
            "3    3592\n",
            "4    6754\n",
            "Name: OrderID, dtype: int64\n"
          ]
        }
      ]
    },
    {
      "cell_type": "code",
      "source": [
        "print(orders[\"OrderID\"].dtype, Reviews[\"OrderID\"].dtype)"
      ],
      "metadata": {
        "colab": {
          "base_uri": "https://localhost:8080/"
        },
        "id": "U7cmQOV3pIj9",
        "outputId": "08351484-111c-4bc3-a25c-ae516be5c249"
      },
      "execution_count": null,
      "outputs": [
        {
          "output_type": "stream",
          "name": "stdout",
          "text": [
            "int64 int64\n"
          ]
        }
      ]
    },
    {
      "cell_type": "code",
      "source": [
        "common_ids = set(orders[\"OrderID\"]).intersection(set(Reviews[\"OrderID\"]))\n",
        "print(\"عدد الـ OrderID المشتركة:\", len(common_ids))"
      ],
      "metadata": {
        "colab": {
          "base_uri": "https://localhost:8080/"
        },
        "id": "E7cp5UdWpoWJ",
        "outputId": "b951452f-e974-4e8b-8402-b33f7e829867"
      },
      "execution_count": null,
      "outputs": [
        {
          "output_type": "stream",
          "name": "stdout",
          "text": [
            "عدد الـ OrderID المشتركة: 687\n"
          ]
        }
      ]
    },
    {
      "cell_type": "code",
      "source": [
        "orders_with_reviews = pd.merge(\n",
        "    orders, Reviews, on=\"OrderID\", how=\"left\"\n",
        ")\n",
        "\n",
        "print(\"إجمالي الصفوف:\", len(orders_with_reviews))\n",
        "print(\"عدد الريفيوهات:\", orders_with_reviews['ReviewID'].notna().sum())\n"
      ],
      "metadata": {
        "id": "rh6iv59Pp41Y",
        "colab": {
          "base_uri": "https://localhost:8080/"
        },
        "outputId": "b069d9b5-afae-4547-cfa5-1a5cb42a9603"
      },
      "execution_count": null,
      "outputs": [
        {
          "output_type": "stream",
          "name": "stdout",
          "text": [
            "إجمالي الصفوف: 3569\n",
            "عدد الريفيوهات: 757\n"
          ]
        }
      ]
    },
    {
      "cell_type": "code",
      "source": [],
      "metadata": {
        "id": "V16GUPNUrnlp"
      },
      "execution_count": null,
      "outputs": []
    }
  ]
}